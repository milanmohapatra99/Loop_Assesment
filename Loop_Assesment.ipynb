{
 "cells": [
  {
   "cell_type": "code",
   "execution_count": null,
   "id": "2452a9b0",
   "metadata": {},
   "outputs": [],
   "source": [
    "#Skip value\n",
    "for i in range(1,8,2):\n",
    "    print(i)"
   ]
  },
  {
   "cell_type": "code",
   "execution_count": null,
   "id": "12f2c161",
   "metadata": {},
   "outputs": [],
   "source": [
    "# range\n",
    "for i in range(1,9):\n",
    "    print(i)"
   ]
  },
  {
   "cell_type": "code",
   "execution_count": null,
   "id": "017138fd",
   "metadata": {},
   "outputs": [],
   "source": [
    "for i in range(12):\n",
    "    print(i)\n",
    "else:\n",
    "    print(\"This is inside else of for\")"
   ]
  },
  {
   "cell_type": "code",
   "execution_count": null,
   "id": "062a7788",
   "metadata": {},
   "outputs": [],
   "source": [
    "for i in range(10):\n",
    "    print(i)\n",
    "    if i == 5:\n",
    "        break"
   ]
  },
  {
   "cell_type": "code",
   "execution_count": null,
   "id": "2ae1feca",
   "metadata": {},
   "outputs": [],
   "source": [
    "#continue\n",
    "for i in range(10):\n",
    "   \n",
    "    if i == 5:\n",
    "        continue\n",
    "    print(i)    "
   ]
  },
  {
   "cell_type": "code",
   "execution_count": null,
   "id": "d5db3d79",
   "metadata": {},
   "outputs": [],
   "source": [
    "# pass statement\n",
    "i = 4\n",
    "if i > 0:\n",
    "    pass\n",
    "while i>6:\n",
    "    pass\n",
    "print(\"Good Morning Everyone!!!\")\n"
   ]
  },
  {
   "cell_type": "code",
   "execution_count": null,
   "id": "0fa05f47",
   "metadata": {},
   "outputs": [],
   "source": [
    "#function pass\n",
    "def run(player):\n",
    "    pass\n",
    "def ouch(player):\n",
    "    pass"
   ]
  },
  {
   "cell_type": "code",
   "execution_count": null,
   "id": "f14c7b18",
   "metadata": {},
   "outputs": [],
   "source": [
    "# w.a.p to print multiplication table by using for loop\n",
    "no = int(input(\"Enter the number:-\"))\n",
    "for i in range(1,11):\n",
    "    print(str(no) + \"X\" + str(i) + \"=\" + str(i*no))"
   ]
  },
  {
   "cell_type": "code",
   "execution_count": null,
   "id": "5412eb35",
   "metadata": {},
   "outputs": [],
   "source": [
    "# using fstring\n",
    "no = int(input(\"Enter the number:-\"))\n",
    "for i in range(1,11):\n",
    "    print(f\"{no}X{i}={no*i}\")\n"
   ]
  },
  {
   "cell_type": "code",
   "execution_count": 1,
   "id": "c29e585c",
   "metadata": {},
   "outputs": [
    {
     "name": "stdout",
     "output_type": "stream",
     "text": [
      "Hello Suhani\n",
      "Hello Sudipta\n",
      "Hello Silu\n"
     ]
    }
   ],
   "source": [
    "# w.a.p to print greet all the  person names stored in a list l1 and which starts with S.\n",
    "l1 = [\"Lucy\",\"Suhani\",\"Sudipta\",\"Rohan\",\"Abhi\",\"Silu\"]\n",
    "for name in l1:\n",
    "    if name.startswith(\"S\"):\n",
    "        print(\"Hello \"+ name) "
   ]
  },
  {
   "cell_type": "code",
   "execution_count": 2,
   "id": "88eb8f93",
   "metadata": {},
   "outputs": [
    {
     "name": "stdout",
     "output_type": "stream",
     "text": [
      "Enter Your No:-4\n",
      "4X1=4\n",
      "4X2=8\n",
      "4X3=12\n",
      "4X4=16\n",
      "4X5=20\n",
      "4X6=24\n",
      "4X7=28\n",
      "4X8=32\n",
      "4X9=36\n",
      "4X10=40\n"
     ]
    }
   ],
   "source": [
    "#w.a.p to print multiplication of a table by using while loop\n",
    "num = int(input(\"Enter Your No:-\"))\n",
    "i = 1\n",
    "while i<11:\n",
    "    print(str(num) + \"X\" + str(i) + \"=\" + str(i*num))\n",
    "    i =i+1"
   ]
  },
  {
   "cell_type": "code",
   "execution_count": 6,
   "id": "ac2c71f2",
   "metadata": {},
   "outputs": [
    {
     "name": "stdout",
     "output_type": "stream",
     "text": [
      "Enter Your No:-3\n",
      "This number is not prime\n"
     ]
    }
   ],
   "source": [
    "# w.a.p to find wheather a given number is prime or not\n",
    "num = int(input(\"Enter Your No:-\"))\n",
    "for i in range(2,num):\n",
    "    if(num % i==0 and num!=2):\n",
    "        print(\"This number is prime\")\n",
    "    else:\n",
    "        print(\"This number is not prime\")\n",
    "        \n"
   ]
  },
  {
   "cell_type": "code",
   "execution_count": 11,
   "id": "9a30329c",
   "metadata": {},
   "outputs": [
    {
     "name": "stdout",
     "output_type": "stream",
     "text": [
      "Enter Your No:-2\n",
      "This number is prime\n"
     ]
    }
   ],
   "source": [
    "num = int(input(\"Enter Your No:-\"))\n",
    "prime = True\n",
    "for i in range(2,num):\n",
    "    if(num % i==0):\n",
    "        prime = False\n",
    "        break\n",
    "if prime:\n",
    "    print(\"This number is prime\")\n",
    "else:\n",
    "    print(\"This number is not prime\")"
   ]
  },
  {
   "cell_type": "code",
   "execution_count": 3,
   "id": "48d9b654",
   "metadata": {},
   "outputs": [
    {
     "name": "stdout",
     "output_type": "stream",
     "text": [
      "Enter Your Number:-3\n",
      "sum of 3 is 6\n"
     ]
    }
   ],
   "source": [
    "#w.a.p to find the sum of 1st n natural numbers using while loop\n",
    "n = int(input(\"Enter Your Number:-\"))\n",
    "i = 1\n",
    "sum = 0\n",
    "while i<n :\n",
    "    sum = sum + n\n",
    "    i += 1\n",
    "print(\"sum of\",n,\"is\",sum)    \n",
    "    "
   ]
  },
  {
   "cell_type": "code",
   "execution_count": 7,
   "id": "9a886a4f",
   "metadata": {},
   "outputs": [
    {
     "name": "stdout",
     "output_type": "stream",
     "text": [
      "Enter Your Number:-5\n",
      "The Factorial of 5 is 120\n"
     ]
    }
   ],
   "source": [
    "# w.a.p to find factorial of given number\n",
    "n = int(input(\"Enter Your Number:-\"))\n",
    "fact = 1\n",
    "for i in range(1,n+1):\n",
    "    fact = fact * i\n",
    "print(f\"The Factorial of {n} is {fact}\")    "
   ]
  },
  {
   "cell_type": "code",
   "execution_count": 9,
   "id": "5d662dd5",
   "metadata": {},
   "outputs": [
    {
     "name": "stdout",
     "output_type": "stream",
     "text": [
      "Enter Your Number:-5\n",
      "The Factorial of 5 is 120 and Sum is 153\n"
     ]
    }
   ],
   "source": [
    "# w.a.p to find  factorial sum of given number\n",
    "n = int(input(\"Enter Your Number:-\"))\n",
    "fact = 1\n",
    "sum = 0\n",
    "for i in range(1,n+1):\n",
    "    fact = fact * i\n",
    "    sum = sum + fact\n",
    "print(f\"The Factorial of {n} is {fact} and Sum is {sum}\") "
   ]
  },
  {
   "cell_type": "code",
   "execution_count": 12,
   "id": "0c3471c3",
   "metadata": {},
   "outputs": [
    {
     "name": "stdout",
     "output_type": "stream",
     "text": [
      "Enter Your Number:-3\n",
      "*\n",
      "**\n",
      "***\n"
     ]
    }
   ],
   "source": [
    "# w.a.p to print star pattern of right angle trangle\n",
    "n = int(input(\"Enter Your Number:-\"))\n",
    "for i in range(n):\n",
    "    print(\"*\" * (i+1))\n"
   ]
  },
  {
   "cell_type": "code",
   "execution_count": 20,
   "id": "4b65e57d",
   "metadata": {},
   "outputs": [
    {
     "name": "stdout",
     "output_type": "stream",
     "text": [
      "Enter Your Number:-5\n",
      "        \n",
      "   *   \n",
      "  ***  \n",
      " ***** \n",
      "*******\n"
     ]
    }
   ],
   "source": [
    "# w.a.p to print star pattern\n",
    "n = int(input(\"Enter Your Number:-\"))\n",
    "for i in range(n):\n",
    "    print(\" \" * (n-i-1),end=\"\")\n",
    "    print(\"*\" * (2*i-1),end=\"\")\n",
    "    print(\" \" * (n-i-1))\n",
    "    \n"
   ]
  },
  {
   "cell_type": "code",
   "execution_count": 30,
   "id": "57d69bbc",
   "metadata": {},
   "outputs": [
    {
     "name": "stdout",
     "output_type": "stream",
     "text": [
      "Enter Your Row Number:-3\n",
      "Enter Your Coloum Number:-3\n",
      "* * * \n",
      "\n",
      "*   * \n",
      "\n",
      "* * * \n",
      "\n"
     ]
    }
   ],
   "source": [
    "# w.a.p to print the following * pattern rectangle\n",
    "n = int(input(\"Enter Your Row Number:-\"))\n",
    "m = int(input(\"Enter Your Coloum Number:-\"))\n",
    "for i in range(1,n+1):\n",
    "    for j in range(1,m+1):\n",
    "        if (i == 1 or i == n or j == 1 or j == m) :\n",
    "                print(\"*\", end=\" \")           \n",
    "        else:\n",
    "                print(\" \", end=\" \")\n",
    "        \n",
    "    \n",
    "    print(\"\\n\")"
   ]
  },
  {
   "cell_type": "code",
   "execution_count": 4,
   "id": "2923396f",
   "metadata": {},
   "outputs": [
    {
     "name": "stdout",
     "output_type": "stream",
     "text": [
      "Enter the number:-3\n",
      "3X10=30\n",
      "3X9=27\n",
      "3X8=24\n",
      "3X7=21\n",
      "3X6=18\n",
      "3X5=15\n",
      "3X4=12\n",
      "3X3=9\n",
      "3X2=6\n",
      "3X1=3\n"
     ]
    }
   ],
   "source": [
    "# w.a.p to print multiplication table of n using for loop in reversed order\n",
    "n = int(input(\"Enter the number:-\"))\n",
    "for i in range(10,0,-1):\n",
    "    print(f\"{n}X{i}={n*i}\")"
   ]
  },
  {
   "cell_type": "code",
   "execution_count": 5,
   "id": "fe687e38",
   "metadata": {},
   "outputs": [
    {
     "name": "stdout",
     "output_type": "stream",
     "text": [
      "enter the number= 5\n",
      "5 X 10 = 50\n",
      "5 X 9 = 45\n",
      "5 X 8 = 40\n",
      "5 X 7 = 35\n",
      "5 X 6 = 30\n",
      "5 X 5 = 25\n",
      "5 X 4 = 20\n",
      "5 X 3 = 15\n",
      "5 X 2 = 10\n",
      "5 X 1 = 5\n"
     ]
    }
   ],
   "source": [
    "num = int(input(\"enter the number= \"))\n",
    "i=10\n",
    "while i>=1:\n",
    "    print(num,\"X\",i,\"=\",num*i)\n",
    "    i= i-1"
   ]
  },
  {
   "cell_type": "code",
   "execution_count": null,
   "id": "e7da4c03",
   "metadata": {},
   "outputs": [],
   "source": []
  }
 ],
 "metadata": {
  "kernelspec": {
   "display_name": "Python 3 (ipykernel)",
   "language": "python",
   "name": "python3"
  },
  "language_info": {
   "codemirror_mode": {
    "name": "ipython",
    "version": 3
   },
   "file_extension": ".py",
   "mimetype": "text/x-python",
   "name": "python",
   "nbconvert_exporter": "python",
   "pygments_lexer": "ipython3",
   "version": "3.9.7"
  }
 },
 "nbformat": 4,
 "nbformat_minor": 5
}
